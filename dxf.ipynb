{
 "cells": [
  {
   "cell_type": "markdown",
   "metadata": {},
   "source": [
    "# Make dxf file using ezdxf\n",
    "\n",
    "* How to install in Anaconda Environment :\n",
    "\n",
    "```\n",
    "$ conda install -c conda-forge ezdxf\n",
    "```\n",
    "\n",
    "* Tutorial : https://ezdxf.mozman.at/docs/index.html\n",
    "\n",
    "## csv\n",
    "\n",
    "* Tutorial : https://docs.python.org/ko/3/library/csv.html"
   ]
  },
  {
   "cell_type": "code",
   "execution_count": 4,
   "metadata": {},
   "outputs": [
    {
     "name": "stdout",
     "output_type": "stream",
     "text": [
      "Finished.  Check case.dxf file!\n"
     ]
    }
   ],
   "source": [
    "import csv\n",
    "import ezdxf\n",
    "from math import sin, cos, pi\n",
    "\n",
    "########################################################################\n",
    "## Read case_eccentric_gear.csv\n",
    "f = open('case_eccentric_gear.csv', 'r', encoding='utf-8')\n",
    "rdr = csv.reader(f)\n",
    "case_eccentric_gear = []\n",
    "for i in rdr:\n",
    "    case_eccentric_gear.append(i)\n",
    "for j in range(len(case_eccentric_gear)):\n",
    "    case_eccentric_gear[j] = list(map(float,case_eccentric_gear[j]))\n",
    "f.close()\n",
    "\n",
    "########################################################################\n",
    "## Read case_ring_gear.csv\n",
    "f = open('case_ring_gear.csv', 'r', encoding='utf-8')\n",
    "rdr = csv.reader(f)\n",
    "case_ring_gear = []\n",
    "for i in rdr:\n",
    "    case_ring_gear.append(i)\n",
    "for j in range(len(case_ring_gear)):\n",
    "    case_ring_gear[j] = list(map(float,case_ring_gear[j]))\n",
    "f.close()\n",
    "\n",
    "##############################################################################################\n",
    "## Read case_spec.csv\n",
    "f = open('case_spec.csv', 'r', encoding='utf-8')\n",
    "rdr = csv.reader(f)\n",
    "case_spec = []\n",
    "for i in rdr:\n",
    "    case_spec.append(i)\n",
    "f.close()\n",
    "\n",
    "## Spec List\n",
    "#[0] Number of Teeth for Eccentric Gear (z)\n",
    "#[1] Radius of Rolling Circle (Ra)\n",
    "#[2] Radius of Base Circle (Rb)\n",
    "#[3] Eccentricity (e)\n",
    "#[4] Number of Roller (z+1)\n",
    "#[5] Radius of Roller (equidistant distance) (q)\n",
    "#[6] Radius of Roller Array Circle (Ra+Rb)\n",
    "#[7] Number of Teeth for Ring Gear (z+2)\n",
    "#[8] Reduction Ratio (z/(-1))\n",
    "\n",
    "########################################################################\n",
    "## Write case.dxf\n",
    "doc = ezdxf.new('AC1015')  # create a new DXF R2000\n",
    "msp = doc.modelspace()  # add new entities to the modelspace\n",
    "## Splines\n",
    "msp.add_spline(case_eccentric_gear)\n",
    "msp.add_spline(case_ring_gear)\n",
    "## Base Circle for Eccentric Gear\n",
    "msp.add_circle(center=(-float(case_spec[3][1]),0.0,0.0),radius=float(case_spec[2][1]))\n",
    "## Base Circle for Ring Gear\n",
    "msp.add_circle(center=(float(case_spec[3][1]),0.0,0.0),radius=float(case_spec[2][1]))\n",
    "## Base Circle for Roller\n",
    "msp.add_circle(center=(0.0,0.0,0.0),radius=float(case_spec[6][1]))\n",
    "## Rollers\n",
    "xc = float(case_spec[6][1])\n",
    "yc = 0.0\n",
    "theta = 2*pi/float(case_spec[4][1])\n",
    "for i in range(int(float(case_spec[4][1]))):\n",
    "    msp.add_circle(center=(xc*cos(i*theta)-yc*sin(i*theta), xc*sin(i*theta)+yc*cos(i*theta), 0.0),radius=float(case_spec[5][1]))\n",
    "doc.saveas('case.dxf')\n",
    "\n",
    "print(\"Finished.  Check case.dxf file!\")"
   ]
  },
  {
   "cell_type": "code",
   "execution_count": null,
   "metadata": {},
   "outputs": [],
   "source": []
  }
 ],
 "metadata": {
  "kernelspec": {
   "display_name": "Python 3",
   "language": "python",
   "name": "python3"
  },
  "language_info": {
   "codemirror_mode": {
    "name": "ipython",
    "version": 3
   },
   "file_extension": ".py",
   "mimetype": "text/x-python",
   "name": "python",
   "nbconvert_exporter": "python",
   "pygments_lexer": "ipython3",
   "version": "3.7.6"
  }
 },
 "nbformat": 4,
 "nbformat_minor": 4
}
